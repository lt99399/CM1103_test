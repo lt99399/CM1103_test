{
 "cells": [
  {
   "cell_type": "markdown",
   "id": "c57c8a7d",
   "metadata": {},
   "source": [
    "# CM1103 Lab worksheet week 5\n",
    "\n",
    "Questions marked **\\[StackOverflow\\]** will also be posted on the COMSC\n",
    "StackOverflow site:\n",
    "\n",
    "<https://stackoverflow.com/c/comsc/questions/tagged/14>\n",
    "\n",
    "You are encouraged to post, discuss and upvote your solutions. Try to\n",
    "solve the problems in different ways and experiment with different\n",
    "language features, and discuss their advantages/disadvantages. For\n",
    "example, could you answer the question without using loops, using only\n",
    "one line of code, etc."
   ]
  },
  {
   "cell_type": "markdown",
   "id": "5639401a",
   "metadata": {},
   "source": [
    "## Operators & math functions *\\[Think Python Version 2 - Sections 1.4-1.5, 2.3-2.5, 3.2\\]* "
   ]
  },
  {
   "cell_type": "markdown",
   "id": "6f04e074",
   "metadata": {},
   "source": [
    "We can use the `type()` function to check the type of a value/variable, e.g. `print(type(\"bob\"))`."
   ]
  },
  {
   "cell_type": "code",
   "execution_count": null,
   "id": "29a414b4",
   "metadata": {},
   "outputs": [],
   "source": [
    "x = \"bob\"\n",
    "print(x, type(x))"
   ]
  },
  {
   "cell_type": "markdown",
   "id": "6a3af85d",
   "metadata": {},
   "source": [
    "1.  Assume that we execute the following assignment statements:\n",
    "\n",
    "        width = 17\n",
    "        height = 12.0\n",
    "        delimiter = '.'\n",
    "\n",
    "    For each of the following expressions, write the value of the\n",
    "    expression and the type (of the value of the expression). Use the Python interpreter and the type function to check your\n",
    "    answers.\n",
    "\n",
    "    a.  `width`"
   ]
  },
  {
   "cell_type": "code",
   "execution_count": 1,
   "id": "5b50744d",
   "metadata": {},
   "outputs": [
    {
     "name": "stdout",
     "output_type": "stream",
     "text": [
      "bob\n"
     ]
    }
   ],
   "source": [
    "width = 17\n",
    "height = 12.0\n",
    "delimiter = '.'"
   ]
  },
  {
   "cell_type": "markdown",
   "id": "2bdc2bfd",
   "metadata": {},
   "source": [
    "\n",
    "b.  `width / 2`"
   ]
  },
  {
   "cell_type": "code",
   "execution_count": null,
   "id": "04f7b345",
   "metadata": {},
   "outputs": [],
   "source": []
  },
  {
   "cell_type": "markdown",
   "id": "0c96a608",
   "metadata": {},
   "source": [
    "c.  `width // 2`"
   ]
  },
  {
   "cell_type": "code",
   "execution_count": null,
   "id": "0602c72d",
   "metadata": {},
   "outputs": [],
   "source": []
  },
  {
   "cell_type": "markdown",
   "id": "6ff6f491",
   "metadata": {},
   "source": [
    "d.  `height // 7`"
   ]
  },
  {
   "cell_type": "code",
   "execution_count": null,
   "id": "b41654fc",
   "metadata": {},
   "outputs": [],
   "source": []
  },
  {
   "cell_type": "markdown",
   "id": "8032a0cb",
   "metadata": {},
   "source": [
    "e.  `1 + 2 * 5`\n"
   ]
  },
  {
   "cell_type": "code",
   "execution_count": null,
   "id": "75b444b6",
   "metadata": {},
   "outputs": [],
   "source": []
  },
  {
   "cell_type": "markdown",
   "id": "7490b081",
   "metadata": {},
   "source": [
    "f.  `delimiter * 5`"
   ]
  },
  {
   "cell_type": "code",
   "execution_count": null,
   "id": "0721963f",
   "metadata": {},
   "outputs": [],
   "source": []
  },
  {
   "cell_type": "markdown",
   "id": "d727bedb",
   "metadata": {},
   "source": [
    "2.  a.  Use the interactive shell to work out how many seconds in total\n",
    "        are in 3 hours, 45 minutes and 2 seconds."
   ]
  },
  {
   "cell_type": "code",
   "execution_count": null,
   "id": "b773e81c",
   "metadata": {},
   "outputs": [],
   "source": []
  },
  {
   "cell_type": "markdown",
   "id": "aa42b882",
   "metadata": {},
   "source": [
    "\n",
    "b.  Replace each occurrence of `???` in the following so that it\n",
    "    converts the number of seconds (6149) to hours, minutes and\n",
    "    seconds, and outputs these values.\n",
    "\n",
    "        >>> totalSeconds = 6149\n",
    "        >>> seconds = totalSeconds ??? 60\n",
    "        >>> totalMinutes = totalSeconds ??? 60\n",
    "        >>> minutes = ???\n",
    "        >>> hours = ???\n",
    "        >>> print(hours, minutes, seconds)\n",
    "        1 42 29"
   ]
  },
  {
   "cell_type": "code",
   "execution_count": null,
   "id": "68bcb948",
   "metadata": {},
   "outputs": [],
   "source": []
  },
  {
   "cell_type": "markdown",
   "id": "8b169b01",
   "metadata": {},
   "source": [
    "3.  What happens if you pass the `sqrt` function that we implemented in\n",
    "    the lecture video a *negative* number as the first parameter? Try this in a shell/command prompt rather than a Jupyter notebook."
   ]
  },
  {
   "cell_type": "markdown",
   "id": "d1cb3734",
   "metadata": {},
   "source": [
    "4.  Typing\n",
    "\n",
    "        >>> import math\n",
    "\n",
    "    in an interactive Python shell will let you use functions from the\n",
    "    built-in `math` module. Type:\n",
    "\n",
    "        >>> help(math)\n",
    "\n",
    "    to see details of the functions this makes available. "
   ]
  },
  {
   "cell_type": "code",
   "execution_count": null,
   "id": "4765e250",
   "metadata": {},
   "outputs": [],
   "source": []
  },
  {
   "cell_type": "markdown",
   "id": "24fd92ef",
   "metadata": {},
   "source": [
    "Using this module, calculate:\n",
    "\n",
    "a.  The sine of 15"
   ]
  },
  {
   "cell_type": "code",
   "execution_count": null,
   "id": "5d86fee7",
   "metadata": {},
   "outputs": [],
   "source": []
  },
  {
   "cell_type": "markdown",
   "id": "0b7b7500",
   "metadata": {},
   "source": [
    "\n",
    "b.  $63^{2.5}$\n"
   ]
  },
  {
   "cell_type": "code",
   "execution_count": null,
   "id": "c0241503",
   "metadata": {},
   "outputs": [],
   "source": []
  },
  {
   "cell_type": "markdown",
   "id": "81f62a0e",
   "metadata": {},
   "source": [
    "\n",
    "c.  The square root of 2498"
   ]
  },
  {
   "cell_type": "code",
   "execution_count": null,
   "id": "ba1ce1ce",
   "metadata": {},
   "outputs": [],
   "source": []
  },
  {
   "cell_type": "markdown",
   "id": "96e4af06",
   "metadata": {},
   "source": [
    "d.  $\\pi$"
   ]
  },
  {
   "cell_type": "code",
   "execution_count": null,
   "id": "8dbd483a",
   "metadata": {},
   "outputs": [],
   "source": []
  },
  {
   "cell_type": "markdown",
   "id": "a7e646d0",
   "metadata": {},
   "source": [
    "5.  Attempt exercise 2.2 from *Think Python Version 2*."
   ]
  },
  {
   "cell_type": "code",
   "execution_count": null,
   "id": "8099f2e9",
   "metadata": {},
   "outputs": [],
   "source": []
  },
  {
   "cell_type": "markdown",
   "id": "d2764a52",
   "metadata": {},
   "source": [
    "## Defining functions *\\[Think Python Version 2 - Sections 3.4, 3.7, 3.10\\]* "
   ]
  },
  {
   "cell_type": "markdown",
   "id": "47181df0",
   "metadata": {},
   "source": [
    "6.  Write a function that takes a number of seconds as an argument and\n",
    "    displays the number of hours, minutes and seconds."
   ]
  },
  {
   "cell_type": "code",
   "execution_count": null,
   "id": "f7398c5c",
   "metadata": {},
   "outputs": [],
   "source": [
    "def time(total_seconds):\n",
    "   pass # Replace with function body"
   ]
  },
  {
   "cell_type": "markdown",
   "id": "c609b39f",
   "metadata": {},
   "source": [
    "7.  Write a function that takes a number of hours,\n",
    "    minutes and seconds as arguments and **returns** the total number of\n",
    "    seconds. Add a suitable doctest to this function, and check that it\n",
    "    passes."
   ]
  },
  {
   "cell_type": "code",
   "execution_count": null,
   "id": "b5a7858d",
   "metadata": {},
   "outputs": [],
   "source": []
  },
  {
   "cell_type": "markdown",
   "id": "0999607c",
   "metadata": {},
   "source": [
    "8.  Write functions that perform the calculations specified in parts 1\n",
    "    and 2 of exercise 2.2 from *Think Python Version 2* for any input\n",
    "    values, giving careful thought to your choice of parameters."
   ]
  },
  {
   "cell_type": "code",
   "execution_count": null,
   "id": "c50b88ac",
   "metadata": {},
   "outputs": [],
   "source": []
  },
  {
   "cell_type": "markdown",
   "id": "b704367a",
   "metadata": {},
   "source": [
    "## Indexing and slicing lists *\\[Think Python Version 2 - Sections 10.2, 10.5\\]* "
   ]
  },
  {
   "cell_type": "markdown",
   "id": "36522454",
   "metadata": {},
   "source": [
    "Let `a` be a list. The *indexing operator* `a[n]` gives access to the\n",
    "$n^{th}$ element of the list. The *slicing operator* `a[i:j]` gives\n",
    "access to a subsequence of the list, and can be given an optional `step`\n",
    "allowing the subsequence to skip elements.\n",
    "\n",
    "Define a list containing the integers 0, 1, 2, ..., 9 by\n",
    "`a = list(range(10))`."
   ]
  },
  {
   "cell_type": "code",
   "execution_count": null,
   "id": "d117b48e",
   "metadata": {},
   "outputs": [],
   "source": [
    "a = list(range(10))"
   ]
  },
  {
   "cell_type": "markdown",
   "id": "367bcc67",
   "metadata": {},
   "source": [
    "9.  What is output by the following:\n",
    "    \n",
    "    a.  `a[2]`\n",
    "    \n",
    "    b.  `a[10]`\n",
    "\n",
    "    c.  `a[-3]`\n",
    "\n",
    "    d.  `a[0:3]`\n",
    "\n",
    "    e.  `a[:3]`\n",
    "\n",
    "    f.  `a[4:]`\n",
    "\n",
    "    g.  `a[:]`\n",
    "\n",
    "    h.  `a[::2]`\n",
    "\n",
    "    i.  `a[5::-1]`\n",
    "\n",
    "    j. `a[::2][3]`"
   ]
  },
  {
   "cell_type": "code",
   "execution_count": 10,
   "id": "d34db628",
   "metadata": {},
   "outputs": [],
   "source": [
    "a = list(range(1,21))"
   ]
  },
  {
   "cell_type": "code",
   "execution_count": 11,
   "id": "4a6db67a",
   "metadata": {},
   "outputs": [
    {
     "data": {
      "text/plain": [
       "[1, 2, 3, 4, 5, 6, 7, 8, 9, 10, 11, 12, 13, 14, 15, 16, 17, 18, 19, 20]"
      ]
     },
     "execution_count": 11,
     "metadata": {},
     "output_type": "execute_result"
    }
   ],
   "source": [
    "a"
   ]
  },
  {
   "cell_type": "code",
   "execution_count": 12,
   "id": "b6e5764d",
   "metadata": {},
   "outputs": [
    {
     "data": {
      "text/plain": [
       "[1, 4, 7, 10, 13, 16, 19]"
      ]
     },
     "execution_count": 12,
     "metadata": {},
     "output_type": "execute_result"
    }
   ],
   "source": [
    "a[::3]"
   ]
  },
  {
   "cell_type": "code",
   "execution_count": 13,
   "id": "79cf6415",
   "metadata": {},
   "outputs": [
    {
     "data": {
      "text/plain": [
       "range(0, 20)"
      ]
     },
     "execution_count": 13,
     "metadata": {},
     "output_type": "execute_result"
    }
   ],
   "source": [
    "range(len(a))"
   ]
  },
  {
   "cell_type": "code",
   "execution_count": 16,
   "id": "986bdc45",
   "metadata": {},
   "outputs": [
    {
     "data": {
      "text/plain": [
       "'abc'"
      ]
     },
     "execution_count": 16,
     "metadata": {},
     "output_type": "execute_result"
    }
   ],
   "source": [
    "a = [\"a\", \"b\", \"c\"]\n",
    "\"\".join(a)"
   ]
  },
  {
   "cell_type": "code",
   "execution_count": null,
   "id": "a66e19d3",
   "metadata": {},
   "outputs": [],
   "source": []
  },
  {
   "cell_type": "code",
   "execution_count": null,
   "id": "98b6a0ad",
   "metadata": {},
   "outputs": [],
   "source": []
  },
  {
   "cell_type": "code",
   "execution_count": null,
   "id": "d507cb3c",
   "metadata": {},
   "outputs": [],
   "source": []
  },
  {
   "cell_type": "code",
   "execution_count": null,
   "id": "e95bf13d",
   "metadata": {},
   "outputs": [],
   "source": []
  },
  {
   "cell_type": "code",
   "execution_count": null,
   "id": "4bb5c021",
   "metadata": {},
   "outputs": [],
   "source": []
  },
  {
   "cell_type": "markdown",
   "id": "deba6336",
   "metadata": {},
   "source": [
    "10.  Replace each `*` with a single character in the following to give\n",
    "    the desired output:\n",
    "\n",
    "a.  `a[*]` to give `4`\n",
    "\n",
    "b.  `a[-*]` to give `4`\n",
    "\n",
    "c.  `a[*:*]` to give `[0, 1]`\n",
    "\n",
    "d.  `a[:*]` to give `[0, 1, 2]`\n",
    "\n",
    "e.  `a[-*:]` to give `[8, 9]`\n",
    "\n",
    "f.  `a[::*]` to give `[0, 3, 6, 9]`\n",
    "\n",
    "g.  `a[::**]` to give `[9, 6, 3, 0]`"
   ]
  },
  {
   "cell_type": "code",
   "execution_count": null,
   "id": "14dec910",
   "metadata": {},
   "outputs": [],
   "source": []
  },
  {
   "cell_type": "code",
   "execution_count": null,
   "id": "00b96372",
   "metadata": {},
   "outputs": [],
   "source": []
  },
  {
   "cell_type": "code",
   "execution_count": null,
   "id": "e0a157bc",
   "metadata": {},
   "outputs": [],
   "source": []
  },
  {
   "cell_type": "code",
   "execution_count": null,
   "id": "482b92f0",
   "metadata": {},
   "outputs": [],
   "source": []
  },
  {
   "cell_type": "code",
   "execution_count": null,
   "id": "1c8c8ed4",
   "metadata": {},
   "outputs": [],
   "source": []
  },
  {
   "cell_type": "code",
   "execution_count": null,
   "id": "137771ce",
   "metadata": {},
   "outputs": [],
   "source": []
  },
  {
   "cell_type": "code",
   "execution_count": null,
   "id": "fc96bf3c",
   "metadata": {},
   "outputs": [],
   "source": []
  },
  {
   "cell_type": "markdown",
   "id": "cf090690",
   "metadata": {},
   "source": [
    "11.  Provide code containing one or more slice which gives:\n",
    "\n",
    "a.  All even numbers in `a` in ascending order.\n",
    "\n",
    "b.  The reverse of `a`\n",
    "\n",
    "c.  All odd numbers in `a` in descending order.\n",
    "\n",
    "d.  The two highest odd numbers in `a` in descending order."
   ]
  },
  {
   "cell_type": "code",
   "execution_count": null,
   "id": "9b41d79d",
   "metadata": {},
   "outputs": [],
   "source": []
  },
  {
   "cell_type": "code",
   "execution_count": null,
   "id": "d96a55a0",
   "metadata": {},
   "outputs": [],
   "source": []
  },
  {
   "cell_type": "code",
   "execution_count": null,
   "id": "136550c9",
   "metadata": {},
   "outputs": [],
   "source": []
  },
  {
   "cell_type": "code",
   "execution_count": null,
   "id": "b576325a",
   "metadata": {},
   "outputs": [],
   "source": []
  },
  {
   "cell_type": "markdown",
   "id": "55433cf2",
   "metadata": {},
   "source": [
    "12.  What do the following do to `a` (reinitialise `a` before each) --\n",
    "    try to work these out **before** running the code to check your\n",
    "    answer:\n",
    "\n",
    "a.  `a[0] = 10`\n",
    "\n",
    "b.  `a[2:4] = [\"a\", \"b\"]`\n",
    "\n",
    "c.  `a[2:4] = [\"a\", \"b\", \"c\", \"d\"]`\n",
    "\n",
    "d.  `a[2:4:2] = [\"a\", \"b\"]`\n",
    "\n",
    "e.  `a[2:6:2] = [\"a\", \"b\"]`\n",
    "\n",
    "f.  `del a[0:2]`\n",
    "\n",
    "g.  `del a[::2]`\n",
    "\n",
    "h.  `a[1::2] = a[::-2]`"
   ]
  },
  {
   "cell_type": "code",
   "execution_count": null,
   "id": "48aa9f79",
   "metadata": {},
   "outputs": [],
   "source": []
  },
  {
   "cell_type": "code",
   "execution_count": null,
   "id": "d118f16d",
   "metadata": {},
   "outputs": [],
   "source": []
  },
  {
   "cell_type": "code",
   "execution_count": null,
   "id": "4de32410",
   "metadata": {},
   "outputs": [],
   "source": []
  },
  {
   "cell_type": "code",
   "execution_count": null,
   "id": "95dc9036",
   "metadata": {},
   "outputs": [],
   "source": []
  },
  {
   "cell_type": "code",
   "execution_count": null,
   "id": "e40cafbc",
   "metadata": {},
   "outputs": [],
   "source": []
  },
  {
   "cell_type": "code",
   "execution_count": null,
   "id": "d6fe4600",
   "metadata": {},
   "outputs": [],
   "source": []
  },
  {
   "cell_type": "code",
   "execution_count": null,
   "id": "9b487dc3",
   "metadata": {},
   "outputs": [],
   "source": []
  },
  {
   "cell_type": "code",
   "execution_count": null,
   "id": "1b6bb195",
   "metadata": {},
   "outputs": [],
   "source": []
  },
  {
   "cell_type": "markdown",
   "id": "c3bb86f2",
   "metadata": {},
   "source": [
    "## Built in functions\n",
    "\n",
    "Python has a number of useful built in functions:\n",
    "\n",
    "<https://docs.python.org/3/library/functions.html>"
   ]
  },
  {
   "cell_type": "markdown",
   "id": "d8dcf196",
   "metadata": {},
   "source": [
    "13.  Define `a = list(range(9,-1,-1))`. Use an appropriate built in\n",
    "    function and slices of `a` to find (assume you don't know the\n",
    "    contents of `a`):\n",
    "\n",
    "a.  The number of elements in `a`.\n",
    "\n",
    "b.  The sum of all elements in `a`.\n",
    "\n",
    "c.  The sum of the first 5 elements in `a`.\n",
    "\n",
    "d.  The smallest value in `a`.\n",
    "\n",
    "e.  The maximum of the elements in `a` whose index is a multiple of 3.\n",
    "\n",
    "f.  A copy of `a` in ascending order."
   ]
  },
  {
   "cell_type": "code",
   "execution_count": null,
   "id": "6d28e108",
   "metadata": {},
   "outputs": [],
   "source": [
    "a = list(range(9,-1,-1))\n",
    "print(a)"
   ]
  },
  {
   "cell_type": "code",
   "execution_count": null,
   "id": "a7d8eae3",
   "metadata": {},
   "outputs": [],
   "source": []
  },
  {
   "cell_type": "code",
   "execution_count": null,
   "id": "a6d70103",
   "metadata": {},
   "outputs": [],
   "source": []
  },
  {
   "cell_type": "code",
   "execution_count": null,
   "id": "dfea3a35",
   "metadata": {},
   "outputs": [],
   "source": []
  },
  {
   "cell_type": "code",
   "execution_count": null,
   "id": "6dc4f74d",
   "metadata": {},
   "outputs": [],
   "source": []
  },
  {
   "cell_type": "code",
   "execution_count": null,
   "id": "233f8ee1",
   "metadata": {},
   "outputs": [],
   "source": []
  },
  {
   "cell_type": "code",
   "execution_count": null,
   "id": "4a46521b",
   "metadata": {},
   "outputs": [],
   "source": []
  },
  {
   "cell_type": "markdown",
   "id": "16c7d07f",
   "metadata": {},
   "source": [
    "14.  The `statistics` module also contains some useful functions for\n",
    "    working with lists. Import the module (as in\n",
    "    question 4) and calculate the mean, median and mode of\n",
    "    the list `[9, 3, 5, 4, 10, 4, 3, 2, 4]`.\n",
    "\n",
    "(See <http://www.bbc.co.uk/bitesize/ks2/maths/data/mode_median_mean_range/read/1/> if you need to revise these mean, median, mode)."
   ]
  },
  {
   "cell_type": "code",
   "execution_count": null,
   "id": "9d042bf4",
   "metadata": {},
   "outputs": [],
   "source": []
  },
  {
   "cell_type": "code",
   "execution_count": null,
   "id": "0d91333d",
   "metadata": {},
   "outputs": [],
   "source": []
  },
  {
   "cell_type": "code",
   "execution_count": null,
   "id": "2481185d",
   "metadata": {},
   "outputs": [],
   "source": []
  },
  {
   "cell_type": "markdown",
   "id": "ff019111",
   "metadata": {},
   "source": [
    "## String manipulation *\\[Think Python Version 2 - Sections 8.1-8.3\\]*"
   ]
  },
  {
   "cell_type": "markdown",
   "id": "ea61543e",
   "metadata": {},
   "source": [
    "15.  a.  What does the following code do?\n",
    "\n",
    "        ``` {.python language=\"Python\"}\n",
    "        >>> for char in \"1bc4\":\n",
    "        ...     print(char)\n",
    "        ```"
   ]
  },
  {
   "cell_type": "code",
   "execution_count": null,
   "id": "dadbc996",
   "metadata": {},
   "outputs": [],
   "source": []
  },
  {
   "cell_type": "markdown",
   "id": "6d5ebe06",
   "metadata": {},
   "source": [
    "b.  What type does the variable `char` have in the above loop?\n",
    "        (*Hint*: use the `type()` function.)"
   ]
  },
  {
   "cell_type": "code",
   "execution_count": null,
   "id": "745fbaf9",
   "metadata": {},
   "outputs": [],
   "source": []
  },
  {
   "cell_type": "markdown",
   "id": "f28e3402",
   "metadata": {},
   "source": [
    "c.  Use the `dir()` and `help()` functions (with suitable arguments)\n",
    "        to find a function that can be used to determine whether a\n",
    "        string contains only alphabetic characters (i.e. only letters --\n",
    "        no numbers or whitespace)."
   ]
  },
  {
   "cell_type": "code",
   "execution_count": null,
   "id": "ac9e890a",
   "metadata": {},
   "outputs": [],
   "source": []
  },
  {
   "cell_type": "markdown",
   "id": "466cbc44",
   "metadata": {},
   "source": [
    "d.  Modify the loop above so that it prints out whether each\n",
    "        character is a letter. I.e. it should produce the output:\n",
    "\n",
    "                    False\n",
    "                    True\n",
    "                    True\n",
    "                    False"
   ]
  },
  {
   "cell_type": "code",
   "execution_count": null,
   "id": "7a5ce6c4",
   "metadata": {},
   "outputs": [],
   "source": []
  },
  {
   "cell_type": "markdown",
   "id": "61051543",
   "metadata": {},
   "source": [
    "e.  Modify the loop above so that it considers each character in\n",
    "        turn. If it is a letter, it should print it **converted to upper\n",
    "        case**. If it is not a letter, it should print `not a letter`.\n",
    "        I.e. it should produce the output:\n",
    "\n",
    "                    not a letter\n",
    "                    B\n",
    "                    C\n",
    "                    not a letter"
   ]
  },
  {
   "cell_type": "code",
   "execution_count": null,
   "id": "c66efa12",
   "metadata": {},
   "outputs": [],
   "source": []
  },
  {
   "cell_type": "markdown",
   "id": "ebd8d127",
   "metadata": {},
   "source": [
    "## Formative assessment \n",
    "\n",
    "The question in this section will help to prepare you for the coursework\n",
    "that will be set in week 9.\n",
    "\n",
    "Download the file `Week5Template.py`, and complete the function as\n",
    "indicated below. Try to ensure your code passes all of the doctests.\n",
    "\n",
    "16.  **\\[StackOverflow\\]** The *Doomsday algorithm* gives an easy way to\n",
    "compute the day of the week for a given date, and is particularly\n",
    "suitable for mental calculation (see <http://en.wikipedia.org/wiki/Doomsday_rule> for more detail).\n",
    "\n",
    "The method represents each day of the week as a number, with\n",
    "`0=`Sunday, `1=`Monday, up to `6=`Saturday, and calculates the\n",
    "*doomsday* for a given year as the day of the week that some\n",
    "memorable dates (4/4, 6/6, 8/8, 10/10, 12/12, and the last day of\n",
    "February) fall on. For example, in 2012 each of these dates falls on\n",
    "a Wednesday. All other dates can then be easily worked out relative\n",
    "to the doomsday.\n",
    "\n",
    "The algorithm to work out the doomsday for a given year is as\n",
    "follows:\n",
    "\n",
    "    Set x to be 5 if the year is in the century 1800-1899;\n",
    "        3 if it falls in 1900-1999; 2 if it falls in 2000-2099; and 0 if it\n",
    "        falls in 2100-2199.\n",
    "    Set w to be the year of the century for the date (e.g. 10 for the year 2010,\n",
    "        99 for 1899)\n",
    "    Divide w by 12 and call the quotient a and the remainder b\n",
    "    Divide b by 4 and call the quotient c\n",
    "    Divide the sum of a, b and c by 7 and call the remainder d\n",
    "    Count forward d days from x to get the year's doomsday (be\n",
    "        careful if this wraps round into a new week - you should end up with an\n",
    "        answer from 0,1,...,6)\n",
    "\n",
    "Complete the function `doomsday` so that it calculates and returns\n",
    "the doomsday for a given year using this algorithm. If the function\n",
    "is called with a year outside of the specified range specified in\n",
    "the algorithm (i.e. 1800 -- 2199), it should return `-1`."
   ]
  },
  {
   "cell_type": "code",
   "execution_count": null,
   "id": "cf59200f",
   "metadata": {},
   "outputs": [],
   "source": [
    "\"\"\"\n",
    ">>> doomsday(2012)\n",
    "3\n",
    ">>> doomsday(1899)\n",
    "2\n",
    ">>> doomsday(1923)\n",
    "3\n",
    ">>> doomsday(10000)\n",
    "-1\n",
    ">>> doomsday(1756)\n",
    "-1\n",
    ">>> type(doomsday(2010))\n",
    "<class 'int'>\n",
    "\"\"\"\n",
    "\n",
    "# *** DO NOT CHANGE CODE ABOVE THIS LINE ***\n",
    "\n",
    "def doomsday(y):\n",
    "    pass # Implement algorithm here"
   ]
  },
  {
   "cell_type": "markdown",
   "id": "ce462432",
   "metadata": {},
   "source": [
    "## Advanced\n",
    "\n",
    "In addition to the optional further work from the lecture slides:\n",
    "\n",
    "17.  **\\[StackOverflow\\]** Use `help` to find out what the functions\n",
    "    `chr` and `ord` do. Write some code that outputs all of the\n",
    "    characters represented by numbers 0 up to 255. What does printing\n",
    "    `chr(7)` do? (Try this question at a command prompt/shell rather than in Jupyter.)"
   ]
  },
  {
   "cell_type": "markdown",
   "id": "053227fb",
   "metadata": {},
   "source": [
    "## Challenge: *Can't see the wood for the trees* \n",
    "\n",
    "**\\[StackOverflow\\]** Download the file `message.py` from Learning\n",
    "Central to the same directory as this notebook file. Type in the following:\n",
    "\n",
    "        from message import *\n",
    "\n",
    "You now have access to a long string named `s` containing a question.\n",
    "\n",
    "Add your answer to the relevant question on StackOverflow, along with\n",
    "any code (don't include the code defining `s`.).\n",
    "\n",
    "[*Hint*: What does `s.find(\"W\")` output?\\]"
   ]
  },
  {
   "cell_type": "code",
   "execution_count": null,
   "id": "9cf56047",
   "metadata": {},
   "outputs": [],
   "source": [
    "from message import *\n",
    "\n",
    "print(len(s))\n",
    "print(s[:50])"
   ]
  }
 ],
 "metadata": {
  "interpreter": {
   "hash": "f34cedfa7a8dbada448a9b503baaebe99e88b253e50e28307c141e831225dbed"
  },
  "kernelspec": {
   "display_name": "Python 3 (ipykernel)",
   "language": "python",
   "name": "python3"
  },
  "language_info": {
   "codemirror_mode": {
    "name": "ipython",
    "version": 3
   },
   "file_extension": ".py",
   "mimetype": "text/x-python",
   "name": "python",
   "nbconvert_exporter": "python",
   "pygments_lexer": "ipython3",
   "version": "3.9.15"
  }
 },
 "nbformat": 4,
 "nbformat_minor": 5
}
